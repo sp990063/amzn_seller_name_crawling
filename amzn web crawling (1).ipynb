{
 "cells": [
  {
   "cell_type": "code",
   "execution_count": 45,
   "id": "bb92950e",
   "metadata": {},
   "outputs": [],
   "source": [
    "# import libraries \n",
    "\n",
    "from bs4 import BeautifulSoup\n",
    "import requests\n",
    "import time\n",
    "import datetime\n",
    "\n",
    "import smtplib\n",
    "import re\n",
    "import pandas"
   ]
  },
  {
   "cell_type": "code",
   "execution_count": 70,
   "id": "88ce6953",
   "metadata": {},
   "outputs": [
    {
     "name": "stdout",
     "output_type": "stream",
     "text": [
      "               soldBy    price                        condition\n",
      "0  Ful-fill-ment PROS  $329.99  Excellentcondition(Refurbished)\n",
      "1      Sole Providers  $329.99  Excellentcondition(Refurbished)\n",
      "2        Chubbiestech  $331.00  Excellentcondition(Refurbished)\n"
     ]
    }
   ],
   "source": [
    "# Connect to Website and pull in data\n",
    "\n",
    "URL = 'https://www.amazon.com/gp/product/ajax/ref=auto_load_aod?asin=B09NWDXS13&pc=dp&experienceId=aodAjaxMain'\n",
    "\n",
    "headers = {\"User-Agent\": \"Mozilla/5.0 (Windows NT 10.0; Win64; x64) AppleWebKit/537.36 (KHTML, like Gecko) Chrome/78.0.3904.108 Safari/537.36\", \"Accept-Encoding\":\"gzip, deflate\", \"Accept\":\"text/html,application/xhtml+xml,application/xml;q=0.9,*/*;q=0.8\", \"DNT\":\"1\",\"Connection\":\"close\", \"Upgrade-Insecure-Requests\":\"1\"}\n",
    "\n",
    "page = requests.get(URL, headers=headers)\n",
    "\n",
    "soup1 = BeautifulSoup(page.content, \"html.parser\")\n",
    "\n",
    "soup2 = BeautifulSoup(soup1.prettify(), \"html.parser\")\n",
    "\n",
    "offers = []\n",
    "\n",
    "pinned_offer = soup2.find('div', {\"id\":\"aod-pinned-offer\"})\n",
    "soldById = pinned_offer.find('div', {\"id\":\"aod-offer-soldBy\"})\n",
    "soldByTag = soldById.find('span', {\"aria-label\":\"Amazon.com. Opens a new page\"})\n",
    "if (soldByTag == None):\n",
    "    soldByTag = soldById.find('a', {\"aria-label\":\"Opens a new page\"})\n",
    "soldBy = soldByTag.get_text().strip()\n",
    "priceTag = pinned_offer.find('div', {\"id\":\"aod-price-0\"}).find('span', {\"class\":\"a-offscreen\"})\n",
    "price = priceTag.get_text().strip()\n",
    "conditionTag = pinned_offer.find('div', {\"id\":\"aod-offer-heading\"})\n",
    "condition = conditionTag.get_text().strip().replace(\" \", \"\").replace(\"\\n\", \" \")\n",
    "\n",
    "offers.append([soldBy, price, condition])\n",
    "\n",
    "for offer in soup2.find_all('div', {\"id\":\"aod-offer\"}):\n",
    "    soldById = offer.find('div', {\"id\":\"aod-offer-soldBy\"})\n",
    "    soldByTag = soldById.find('span', {\"aria-label\":\"Amazon.com. Opens a new page\"})\n",
    "    if (soldByTag == None):\n",
    "        soldByTag = soldById.find('a', {\"aria-label\":\"Opens a new page\"})\n",
    "    soldBy = soldByTag.get_text().strip()\n",
    "    priceTag = offer.find('div', {\"id\":\"aod-offer-price\"}).find('span', {\"class\":\"a-offscreen\"})\n",
    "    price = priceTag.get_text().strip()\n",
    "    conditionTag = offer.find('div', {\"id\":\"aod-offer-heading\"})\n",
    "    condition = conditionTag.get_text().strip().replace(\" \", \"\").replace(\"\\n\", \" \")\n",
    "    \n",
    "    offers.append([soldBy, price, condition])\n",
    "    \n",
    "print(pandas.DataFrame(offers, columns =[\"soldBy\",\"price\", \"condition\"]))\n",
    "\n",
    "\n"
   ]
  },
  {
   "cell_type": "code",
   "execution_count": 5,
   "id": "7dbc1c6d",
   "metadata": {},
   "outputs": [
    {
     "ename": "NameError",
     "evalue": "name 'sold_by' is not defined",
     "output_type": "error",
     "traceback": [
      "\u001b[1;31m---------------------------------------------------------------------------\u001b[0m",
      "\u001b[1;31mNameError\u001b[0m                                 Traceback (most recent call last)",
      "Input \u001b[1;32mIn [5]\u001b[0m, in \u001b[0;36m<cell line: 8>\u001b[1;34m()\u001b[0m\n\u001b[0;32m      5\u001b[0m     \u001b[38;5;28;01mreturn\u001b[39;00m re\u001b[38;5;241m.\u001b[39msub(pattern, \u001b[38;5;124m'\u001b[39m\u001b[38;5;124m'\u001b[39m, string)\n\u001b[0;32m      7\u001b[0m \u001b[38;5;66;03m# Driver Program\u001b[39;00m\n\u001b[1;32m----> 8\u001b[0m string \u001b[38;5;241m=\u001b[39m \u001b[43msold_by\u001b[49m\n\u001b[0;32m      9\u001b[0m \u001b[38;5;28mprint\u001b[39m(replace(string))\n",
      "\u001b[1;31mNameError\u001b[0m: name 'sold_by' is not defined"
     ]
    }
   ],
   "source": [
    "import re\n",
    " \n",
    "def replace(string):\n",
    "    pattern = re.compile(r'\\s+')\n",
    "    return re.sub(pattern, '', string)\n",
    "     \n",
    "# Driver Program\n",
    "string = sold_by\n",
    "print(replace(string))"
   ]
  },
  {
   "cell_type": "code",
   "execution_count": null,
   "id": "848aa1f0",
   "metadata": {},
   "outputs": [],
   "source": [
    "import re\n",
    "\n",
    "str = 'Sold by\\nCreator Era'\n",
    "match = re.search(r'Sold by\\n\\w+', str)\n",
    "# If-statement after search() tests if it succeeded\n",
    "if match:\n",
    "  print('found', match.group()) ## 'found word:cat'\n",
    "else:\n",
    "  print('did not find')\n",
    "\n",
    "print(str)"
   ]
  },
  {
   "cell_type": "code",
   "execution_count": null,
   "id": "0b44c88b",
   "metadata": {},
   "outputs": [],
   "source": [
    "#step3 find seller names\n",
    "\n",
    "import re\n",
    "\n",
    "str = sold_by\n",
    "match = re.search(r'more\\n\\w+', str)\n",
    "# If-statement after search() tests if it succeeded\n",
    "if match:\n",
    "  print('found', match.group())\n",
    "else:\n",
    "  print('did not find')"
   ]
  },
  {
   "cell_type": "code",
   "execution_count": null,
   "id": "39b2fff4",
   "metadata": {},
   "outputs": [],
   "source": [
    "import re\n",
    " \n",
    "def replace(string):\n",
    "    pattern = re.compile(r'\\s+')\n",
    "    return re.sub(pattern, '', string)\n",
    "     \n",
    "# Driver Program\n",
    "string = sold_by\n",
    "print(replace(string))\n",
    "\n",
    "sold_by_strip = replace(string)"
   ]
  },
  {
   "cell_type": "code",
   "execution_count": null,
   "id": "946399c8",
   "metadata": {},
   "outputs": [],
   "source": [
    "(link.get_text().strip())"
   ]
  },
  {
   "cell_type": "code",
   "execution_count": null,
   "id": "2cf33320",
   "metadata": {},
   "outputs": [],
   "source": []
  },
  {
   "cell_type": "code",
   "execution_count": null,
   "id": "305d394f",
   "metadata": {},
   "outputs": [],
   "source": []
  }
 ],
 "metadata": {
  "kernelspec": {
   "display_name": "Python 3 (ipykernel)",
   "language": "python",
   "name": "python3"
  },
  "language_info": {
   "codemirror_mode": {
    "name": "ipython",
    "version": 3
   },
   "file_extension": ".py",
   "mimetype": "text/x-python",
   "name": "python",
   "nbconvert_exporter": "python",
   "pygments_lexer": "ipython3",
   "version": "3.8.10"
  }
 },
 "nbformat": 4,
 "nbformat_minor": 5
}
