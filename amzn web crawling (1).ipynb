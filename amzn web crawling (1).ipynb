{
 "cells": [
  {
   "cell_type": "code",
   "execution_count": 1,
   "id": "bb92950e",
   "metadata": {},
   "outputs": [],
   "source": [
    "# import libraries \n",
    "\n",
    "from bs4 import BeautifulSoup\n",
    "import requests\n",
    "import time\n",
    "import datetime\n",
    "\n",
    "import smtplib\n",
    "import re"
   ]
  },
  {
   "cell_type": "code",
   "execution_count": 5,
   "id": "88ce6953",
   "metadata": {},
   "outputs": [
    {
     "name": "stdout",
     "output_type": "stream",
     "text": [
      "Terms\n",
      "Terms\n",
      "More\n",
      "See more\n",
      "PTCCTV PI\n",
      "See less\n",
      "Terms\n",
      "Terms\n",
      "More\n",
      "See more\n",
      "PTCCTV PI\n",
      "See less\n",
      "Clear all\n",
      "\n",
      "\n",
      "Clear all\n",
      "More\n",
      "Guiying\n",
      "More\n",
      "FanchongSHOP\n",
      "See more\n"
     ]
    }
   ],
   "source": [
    "# Connect to Website and pull in data\n",
    "\n",
    "URL = 'https://www.amazon.com/gp/product/ajax/ref=auto_load_aod?asin=B093CY5YRD&pc=dp&experienceId=aodAjaxMain'\n",
    "\n",
    "headers = {\"User-Agent\": \"Mozilla/5.0 (Windows NT 10.0; Win64; x64) AppleWebKit/537.36 (KHTML, like Gecko) Chrome/78.0.3904.108 Safari/537.36\", \"Accept-Encoding\":\"gzip, deflate\", \"Accept\":\"text/html,application/xhtml+xml,application/xml;q=0.9,*/*;q=0.8\", \"DNT\":\"1\",\"Connection\":\"close\", \"Upgrade-Insecure-Requests\":\"1\"}\n",
    "\n",
    "page = requests.get(URL, headers=headers)\n",
    "\n",
    "soup1 = BeautifulSoup(page.content, \"html.parser\")\n",
    "\n",
    "soup2 = BeautifulSoup(soup1.prettify(), \"html.parser\")\n",
    "\n",
    "\n",
    "\n",
    "for link in soup2.find_all('a'):\n",
    "    print(link.get_text().strip())\n",
    "\n",
    "    \n",
    "\n"
   ]
  },
  {
   "cell_type": "code",
   "execution_count": 3,
   "id": "7dbc1c6d",
   "metadata": {},
   "outputs": [
    {
     "ename": "NameError",
     "evalue": "name 'sold_by' is not defined",
     "output_type": "error",
     "traceback": [
      "\u001b[1;31m---------------------------------------------------------------------------\u001b[0m",
      "\u001b[1;31mNameError\u001b[0m                                 Traceback (most recent call last)",
      "\u001b[1;32m<ipython-input-3-6b8b013cf24b>\u001b[0m in \u001b[0;36m<module>\u001b[1;34m\u001b[0m\n\u001b[0;32m      6\u001b[0m \u001b[1;33m\u001b[0m\u001b[0m\n\u001b[0;32m      7\u001b[0m \u001b[1;31m# Driver Program\u001b[0m\u001b[1;33m\u001b[0m\u001b[1;33m\u001b[0m\u001b[1;33m\u001b[0m\u001b[0m\n\u001b[1;32m----> 8\u001b[1;33m \u001b[0mstring\u001b[0m \u001b[1;33m=\u001b[0m \u001b[0msold_by\u001b[0m\u001b[1;33m\u001b[0m\u001b[1;33m\u001b[0m\u001b[0m\n\u001b[0m\u001b[0;32m      9\u001b[0m \u001b[0mprint\u001b[0m\u001b[1;33m(\u001b[0m\u001b[0mreplace\u001b[0m\u001b[1;33m(\u001b[0m\u001b[0mstring\u001b[0m\u001b[1;33m)\u001b[0m\u001b[1;33m)\u001b[0m\u001b[1;33m\u001b[0m\u001b[1;33m\u001b[0m\u001b[0m\n",
      "\u001b[1;31mNameError\u001b[0m: name 'sold_by' is not defined"
     ]
    }
   ],
   "source": [
    "import re\n",
    " \n",
    "def replace(string):\n",
    "    pattern = re.compile(r'\\s+')\n",
    "    return re.sub(pattern, '', string)\n",
    "     \n",
    "# Driver Program\n",
    "string = sold_by\n",
    "print(replace(string))"
   ]
  },
  {
   "cell_type": "code",
   "execution_count": null,
   "id": "848aa1f0",
   "metadata": {},
   "outputs": [],
   "source": [
    "import re\n",
    "\n",
    "str = 'Sold by\\nCreator Era'\n",
    "match = re.search(r'Sold by\\n\\w+', str)\n",
    "# If-statement after search() tests if it succeeded\n",
    "if match:\n",
    "  print('found', match.group()) ## 'found word:cat'\n",
    "else:\n",
    "  print('did not find')\n",
    "\n",
    "print(str)"
   ]
  },
  {
   "cell_type": "code",
   "execution_count": null,
   "id": "0b44c88b",
   "metadata": {},
   "outputs": [],
   "source": [
    "#step3 find seller names\n",
    "\n",
    "import re\n",
    "\n",
    "str = sold_by\n",
    "match = re.search(r'more\\n\\w+', str)\n",
    "# If-statement after search() tests if it succeeded\n",
    "if match:\n",
    "  print('found', match.group())\n",
    "else:\n",
    "  print('did not find')"
   ]
  },
  {
   "cell_type": "code",
   "execution_count": null,
   "id": "39b2fff4",
   "metadata": {},
   "outputs": [],
   "source": [
    "import re\n",
    " \n",
    "def replace(string):\n",
    "    pattern = re.compile(r'\\s+')\n",
    "    return re.sub(pattern, '', string)\n",
    "     \n",
    "# Driver Program\n",
    "string = sold_by\n",
    "print(replace(string))\n",
    "\n",
    "sold_by_strip = replace(string)"
   ]
  },
  {
   "cell_type": "code",
   "execution_count": null,
   "id": "946399c8",
   "metadata": {},
   "outputs": [],
   "source": [
    "(link.get_text().strip())"
   ]
  },
  {
   "cell_type": "code",
   "execution_count": null,
   "id": "2cf33320",
   "metadata": {},
   "outputs": [],
   "source": []
  },
  {
   "cell_type": "code",
   "execution_count": null,
   "id": "305d394f",
   "metadata": {},
   "outputs": [],
   "source": []
  }
 ],
 "metadata": {
  "kernelspec": {
   "display_name": "Python 3",
   "language": "python",
   "name": "python3"
  },
  "language_info": {
   "codemirror_mode": {
    "name": "ipython",
    "version": 3
   },
   "file_extension": ".py",
   "mimetype": "text/x-python",
   "name": "python",
   "nbconvert_exporter": "python",
   "pygments_lexer": "ipython3",
   "version": "3.8.8"
  }
 },
 "nbformat": 4,
 "nbformat_minor": 5
}
